import pandas as pd
import numpy as np



# 1. Lecture du fichier
file_path = r"C:\Users\utilisateur\Documents\projet\base.csv"
file_path = file_path.replace('\u202a', '')
df = pd.read_csv(file_path, sep=";", encoding='utf-8', low_memory=False)


#Traitement de la base de donnée

#  examiner Les noms de colones
print("Colonnes :", df.columns.tolist()[:10])


# === 3. Passage du format large → long ===
df_long = df.melt(
    id_vars=["Country Name", "Series Name"],
    var_name="Year",
    value_name="Value"
)

# Nettoyage de la colonne Year
df_long["Year"] = df_long["Year"].str.extract(r"(\d{4})")
df_long = df_long.dropna(subset=["Year"])  # retire lignes sans année
df_long["Year"] = df_long["Year"].astype(int)

# Nettoyage des valeurs
df_long["Value"] = pd.to_numeric(df_long["Value"], errors="coerce")


# vérifion que Year est bien une chaîne avant extraction
df_long["Year"] = df_long["Year"].astype(str).str.extract(r"(\d{4})")

# Supprimer les lignes sans année valide
df_long = df_long.dropna(subset=["Year"])

# Convertir l'année en entier
df_long["Year"] = df_long["Year"].astype(int)

# Convertir les valeurs en numérique
df_long["Value"] = pd.to_numeric(df_long["Value"], errors="coerce")

print("Transformation réussie :", df_long.shape)
print(df_long.head())


# Voir tous les indicateurs uniques
indicateurs = df_long["Series Name"].unique()
print(" Liste des indicateurs disponibles :")
for i in indicateurs:
    print("-", i)

# === Nettoyage des noms d'indicateurs ===
df_long["Series Name"] = df_long["Series Name"].str.replace('"', '').str.strip()


print(df_long.head(10))

# Identifier les lignes "Population"
pop = df_long[df_long["Series Name"] == "Population"].copy()

# Pour chaque pays-année, garder la population max (le total)
pop_total = (
    pop.groupby(["Country Name", "Year"], as_index=False)["Value"]
    .max()
    .rename(columns={"Value": "Population_total"})
)

# Supprimer toutes les lignes Population du dataset principal
df_no_pop = df_long[df_long["Series Name"] != "Population"].copy()

# Pivot du format long au format large
df_wide = df_no_pop.pivot_table(
    index=["Country Name", "Year"],
    columns="Series Name",
    values="Value"
).reset_index()

# Nettoyage des noms de colonnes
df_wide.columns = (
    df_wide.columns
    .str.replace(" ", "_")
    .str.replace("%", "pct")
    .str.replace(r"[^\w]", "", regex=True)
)

# Fusionner la population totale avec les autres indicateurs
df_final = pd.merge(
    df_wide,
    pop_total,
    left_on=["Country_Name", "Year"],
    right_on=["Country Name", "Year"],
    how="left"
)

print("Colonnes df_wide :", df_wide.columns.tolist())
print("Colonnes pop_total :", pop_total.columns.tolist())

df_final.rename(columns={
    "Country_Name": "Country",
    "GDP_per_capita_current_US": "GDP_per_capita",
    "Personal_remittances": "Remittances_pct_GDP",
    "Unemployment": "Unemployment_rate",
    "Inflation": "Inflation_rate",
    "GDP_growth_annual_pct": "GDP_growth",
    "Trade_of_GDP": "Trade_GDP"
}, inplace=True)

import numpy as np

# Convertir les colonnes numériques
for col in df_final.columns:
    if col not in ["Country", "Year"]:
        df_final[col] = pd.to_numeric(df_final[col], errors="coerce")

# Supprimer les lignes vides
df_final.dropna(subset=["GDP_per_capita"], inplace=True)

# Trier par pays et année
df_final.sort_values(by=["Country", "Year"], inplace=True)

# Vérifier le résultat
print("Données finales prêtes :", df_final.shape)
print(df_final.head(10))



# Supprimer la colonne redondante
df_final.drop(columns=["Country Name"], inplace=True)

# Réordonner les colonnes
df_final = df_final[[
    "Country", "Year", "GDP_per_capita", "Remittances_pct_GDP", "Unemployment_rate",
    "Inflation_rate", "GDP_growth", "Trade_pct_of_GDP", "Population_total"
]]



# Ajouter une variable binaire COVID_dummy
df_final["COVID_dummy"] = df_final["Year"].apply(lambda x: 1 if x in [2020, 2021] else 0)


#traitement des variables manquante
na = df_final.isna().sum().sort_values(ascending=False)
print("\nValeurs manquantes :\n", na)

# Tri par pays et année pour garder l'ordre logique
df_final = df_final.sort_values(['Country', 'Year']).copy()

# Colonnes numériques à interpoler
cols_num = ['Inflation_rate', 'Trade_pct_of_GDP']

# Interpolation par pays
df_final[cols_num] = (
    df_final
    .groupby('Country')[cols_num]
    .apply(lambda g: g.interpolate(limit_direction='both'))
    .reset_index(level=0, drop=True)
)

# Compléter les éventuels restes par ffill/bfill
df_final[cols_num] = (
    df_final
    .groupby('Country')[cols_num]
    .apply(lambda g: g.fillna(method='ffill').fillna(method='bfill'))
    .reset_index(level=0, drop=True)
)
#traitement des valeurs manquante pour le nigeria
global_mean = df_final['Trade_pct_of_GDP'].mean()
df_final['Trade_pct_of_GDP'] = df_final['Trade_pct_of_GDP'].fillna(global_mean)

print(" NA restants sur Trade_pct_of_GDP :", df_final['Trade_pct_of_GDP'].isna().sum())

# I) Statistiques descriptives

#  Évolution des remittances (% PIB) par pays
import matplotlib.pyplot as plt
import seaborn as sns

# Style visuel moderne
sns.set_theme(style="whitegrid")

# Palette de couleurs distinctes (autant que de pays)
countries = sorted(df_final['Country'].unique())
palette = sns.color_palette("tab20", n_colors=len(countries))

# Création du graphique
plt.figure(figsize=(10, 6))

for i, c in enumerate(countries):
    tmp = df_final[df_final['Country'] == c]
    plt.plot(
        tmp['Year'], tmp['Remittances_pct_GDP'],
        label=c,
        color=palette[i],
        linewidth=2
    )

# Titres et légendes
plt.title("Évolution des remittances (% du PIB) par pays", fontsize=14, fontweight='bold')
plt.xlabel("Année", fontsize=12)
plt.ylabel("Remittances (% du PIB)", fontsize=12)
plt.legend(loc='center left', bbox_to_anchor=(1, 0.5), title="Pays", fontsize=9)
plt.tight_layout()

plt.show(block = True)



# Barres : comparaison entre pays en 2023
year_focus = 2023
cmp = (df_final[df_final['Year']==year_focus]
       .dropna(subset=['Remittances_pct_GDP'])
       .sort_values('Remittances_pct_GDP', ascending=False))
plt.figure(figsize=(8,5))
plt.bar(cmp['Country'], cmp['Remittances_pct_GDP'])
plt.xticks(rotation=45, ha='right')
plt.ylabel('Remittances (% du PIB)')
plt.title(f"Comparaison des remittances par pays – {year_focus}")
plt.tight_layout()
plt.show(block= True)


# 3.2 Barres : comparaison entre pays en 2021
year_focus = 2020
cmp = (df_final[df_final['Year']==year_focus]
       .dropna(subset=['Remittances_pct_GDP'])
       .sort_values('Remittances_pct_GDP', ascending=False))
plt.figure(figsize=(8,5))
plt.bar(cmp['Country'], cmp['Remittances_pct_GDP'])
plt.xticks(rotation=45, ha='right')
plt.ylabel('Remittances (% du PIB)')
plt.title(f"Comparaison des remittances par pays – {year_focus}")
plt.tight_layout()
plt.show(block= True)

# 3.3 Matrice de corrélations (numériques)
corr = df_final[['Remittances_pct_GDP','GDP_per_capita','Unemployment_rate',
             'Inflation_rate','GDP_growth','Trade_pct_of_GDP','Population_total','COVID_dummy']].corr()

plt.figure(figsize=(7,6))
plt.imshow(corr, interpolation='nearest')
plt.xticks(range(corr.shape[1]), corr.columns, rotation=45, ha='right')
plt.yticks(range(corr.shape[0]), corr.index)
plt.colorbar()
plt.title("Corrélations (panel agrégé)")
plt.tight_layout()
plt.show(block = True)


# II) Analyse économétrique
import statsmodels.formula.api as smf

from linearmodels.panel import PanelOLS
import pandas as pd

# index de panel (pays et années)
df_final = df_final.set_index(['Country', 'Year'])

# Modèle à effets fixes (avec intercepts par pays)

model_fe = PanelOLS.from_formula(
    'Remittances_pct_GDP ~ GDP_per_capita + Unemployment_rate + Inflation_rate + GDP_growth + Trade_pct_of_GDP + Population_total + COVID_dummy + EntityEffects',
    data=df_final
)

results_fe = model_fe.fit(cov_type='clustered', cluster_entity=True)
print(results_fe.summary)

# Modèle à effets aleatoire (avec intercepts par pays)


from linearmodels.panel import RandomEffects

model_re = RandomEffects.from_formula(
    'Remittances_pct_GDP ~ GDP_per_capita + Unemployment_rate + Inflation_rate + GDP_growth + Trade_pct_of_GDP + Population_total + COVID_dummy',
    data=df_final
)

results_re = model_re.fit()
print(results_re.summary)

# test d'hausman
import numpy as np
from scipy import stats

# Extraction des coefficients et covariance
b_fe = results_fe.params
b_re = results_re.params

# Alignement des noms de variables
common_coef = b_fe.index.intersection(b_re.index)
b_fe = b_fe[common_coef]
b_re = b_re[common_coef]

# Matrices de covariance
V_fe = results_fe.cov
V_re = results_re.cov

# Calcul du test de Hausman
b_diff = b_fe - b_re
V_diff = V_fe.loc[common_coef, common_coef] - V_re.loc[common_coef, common_coef]

hausman_stat = np.dot(np.dot(b_diff.T, np.linalg.inv(V_diff)), b_diff)
df = len(b_diff)
p_value = 1 - stats.chi2.cdf(hausman_stat, df)

print("=== Test de Hausman ===")
print(f"Statistique : {hausman_stat:.3f}")
print(f"Degrés de liberté : {df}")
print(f"p-value : {p_value:.4f}")
if p_value < 0.05:
    print("👉 Rejet de H0 → Effets fixes (FE) préférés ✅")
else:
    print("👉 Non-rejet de H0 → Effets aléatoires (RE) acceptables ⚙️")

